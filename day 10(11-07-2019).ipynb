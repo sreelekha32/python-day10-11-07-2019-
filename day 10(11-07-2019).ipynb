{
 "cells": [
  {
   "cell_type": "markdown",
   "metadata": {},
   "source": [
    "### standard libraries\n",
    "- file i/d\n",
    "- regular expression\n",
    "- datatime\n",
    "- math(numerical and mathematical)"
   ]
  },
  {
   "cell_type": "markdown",
   "metadata": {},
   "source": [
    "### file handling in python\n",
    "- file:-document containing information resides on the permeant  storage\n",
    "- different types of files:-txt,doc,pdf,csv and etc..\n",
    "- input--keyboard\n",
    "- output--file\n",
    "\n",
    "\n",
    "### modes of the file i/o\n",
    "- 'w'--this mode is used to file writing\n",
    "        --if the file is not present first it creates the file and write some data to it.\n",
    "        --if the file is already present then it will rewrite the previous content"
   ]
  },
  {
   "cell_type": "code",
   "execution_count": 1,
   "metadata": {},
   "outputs": [
    {
     "name": "stdout",
     "output_type": "stream",
     "text": [
      "file is created and data has written\n"
     ]
    }
   ],
   "source": [
    "# function to create a file and write to the file\n",
    "def createfile(filename):\n",
    "    f=open(filename,'w')\n",
    "    for i in range(10):\n",
    "        f.write('this is %d line'%i)\n",
    "    print(\"file is created and data has written\")\n",
    "    return\n",
    "createfile('file1.txt')"
   ]
  },
  {
   "cell_type": "code",
   "execution_count": 2,
   "metadata": {},
   "outputs": [
    {
     "name": "stdout",
     "output_type": "stream",
     "text": [
      " Volume in drive C has no label.\n",
      " Volume Serial Number is A2FF-1503\n",
      "\n",
      " Directory of C:\\Users\\exam\n",
      "\n",
      "11-07-2019  09:31    <DIR>          .\n",
      "11-07-2019  09:31    <DIR>          ..\n",
      "21-06-2019  14:43    <DIR>          .anaconda\n",
      "25-06-2019  15:29             1,426 .bash_history\n",
      "08-07-2019  10:23    <DIR>          .conda\n",
      "08-07-2019  09:07                43 .condarc\n",
      "29-06-2019  12:14    <DIR>          .idlerc\n",
      "11-07-2019  09:07    <DIR>          .ipynb_checkpoints\n",
      "21-06-2019  14:44    <DIR>          .ipython\n",
      "22-06-2019  12:04    <DIR>          .jupyter\n",
      "19-06-2019  14:21                44 .minttyrc\n",
      "28-03-2019  15:49    <DIR>          .oracle_jre_usage\n",
      "21-06-2019  11:56    <DIR>          Anaconda3\n",
      "27-06-2019  14:32               177 charith\n",
      "27-06-2019  14:32               160 chinmay.txt\n",
      "21-06-2019  11:58    <DIR>          chinmy\n",
      "24-11-2016  10:49    <DIR>          Contacts\n",
      "11-07-2019  09:30             1,224 day 10(11-07-2019).ipynb\n",
      "29-06-2019  09:40               555 DAY 12.ipynb\n",
      "24-06-2019  15:48            11,587 day 7.ipynb\n",
      "25-06-2019  14:42             7,951 day 8.ipynb\n",
      "10-07-2019  16:46            27,842 day 9(10-07-2019)32.ipynb\n",
      "27-06-2019  15:23             7,819 day10.ipynb\n",
      "03-07-2019  09:44    <DIR>          Desktop\n",
      "03-07-2019  17:27    <DIR>          Documents\n",
      "03-07-2019  16:47    <DIR>          Downloads\n",
      "24-11-2016  10:49    <DIR>          Favorites\n",
      "11-07-2019  09:31               140 file1.txt\n",
      "24-11-2016  10:49    <DIR>          Links\n",
      "24-11-2016  10:49    <DIR>          Music\n",
      "19-06-2019  14:02    <DIR>          Pictures\n",
      "22-06-2019  13:01             9,099 puthon save.ipynb\n",
      "08-07-2019  16:59             9,311 python (06-07)32.ipynb\n",
      "22-06-2019  15:54            11,268 python day 6.ipynb\n",
      "09-07-2019  17:13            15,812 python day 8(9-07-2019) 32.ipynb\n",
      "22-06-2019  13:00             9,099 python day6.ipynb\n",
      "09-07-2019  10:44            11,739 python(8-07-2019) 32.ipynb\n",
      "24-11-2016  10:49    <DIR>          Saved Games\n",
      "24-11-2016  10:49    <DIR>          Searches\n",
      "21-06-2019  14:44                72 Untitled.ipynb\n",
      "21-06-2019  14:48               555 Untitled1.ipynb\n",
      "21-06-2019  15:12               555 Untitled2.ipynb\n",
      "21-06-2019  15:53               893 Untitled3.ipynb\n",
      "21-06-2019  16:57             7,811 Untitled4.ipynb\n",
      "22-06-2019  12:57                72 Untitled5.ipynb\n",
      "28-06-2019  12:15                72 Untitled6.ipynb\n",
      "28-06-2019  12:46                72 Untitled7.ipynb\n",
      "29-06-2019  10:07               555 Untitled8.ipynb\n",
      "29-06-2019  12:41             1,038 Untitled9.ipynb\n",
      "24-11-2016  10:49    <DIR>          Videos\n",
      "              28 File(s)        136,991 bytes\n",
      "              22 Dir(s)  69,492,555,776 bytes free\n"
     ]
    }
   ],
   "source": [
    "ls"
   ]
  },
  {
   "cell_type": "code",
   "execution_count": 4,
   "metadata": {},
   "outputs": [
    {
     "name": "stdout",
     "output_type": "stream",
     "text": [
      "file is created and data has written\n"
     ]
    }
   ],
   "source": [
    "def createfile(filename):\n",
    "    f=open(filename,'w')\n",
    "    f.write('testing...\\n')\n",
    "    print(\"file is created and data has written\")\n",
    "    return\n",
    "createfile('file1.txt')"
   ]
  },
  {
   "cell_type": "code",
   "execution_count": 6,
   "metadata": {},
   "outputs": [
    {
     "name": "stdout",
     "output_type": "stream",
     "text": [
      "file created and successfuly data written\n"
     ]
    }
   ],
   "source": [
    "def appenddata(filename):\n",
    "    f=open(filename,'a')\n",
    "    for i in range(10):\n",
    "        f.write(\"this is %d line\\n\"%i)\n",
    "    print(\"file created and successfuly data written\")\n",
    "    return\n",
    "appenddata('file2.txt')"
   ]
  },
  {
   "cell_type": "code",
   "execution_count": 7,
   "metadata": {},
   "outputs": [
    {
     "name": "stdout",
     "output_type": "stream",
     "text": [
      "file created and successfuly data written\n"
     ]
    }
   ],
   "source": [
    "def appenddata(filename):\n",
    "    f=open(filename,'a')\n",
    "    f.write(\"new line 1\\n\")\n",
    "    f.write(\"new line 2\\n\")\n",
    "    print(\"file created and successfuly data written\")\n",
    "    return\n",
    "appenddata('file2.txt')"
   ]
  },
  {
   "cell_type": "code",
   "execution_count": 10,
   "metadata": {},
   "outputs": [
    {
     "name": "stdout",
     "output_type": "stream",
     "text": [
      "this is 0 line\n",
      "this is 1 line\n",
      "this is 2 line\n",
      "this is 3 line\n",
      "this is 4 line\n",
      "this is 5 line\n",
      "this is 6 line\n",
      "this is 7 line\n",
      "this is 8 line\n",
      "this is 9 line\n",
      "new line 1\n",
      "new line 2\n",
      "\n"
     ]
    }
   ],
   "source": [
    "# function to read of the file\n",
    "def readfiledata(filename):\n",
    "    f=open(filename,'r')\n",
    "    if f.mode=='r':\n",
    "        x=f.read()\n",
    "        print(x)\n",
    "    f.close()\n",
    "    return\n",
    "readfiledata('file2.txt')"
   ]
  },
  {
   "cell_type": "code",
   "execution_count": 16,
   "metadata": {},
   "outputs": [
    {
     "name": "stdout",
     "output_type": "stream",
     "text": [
      "enter the filenamedata.txt\n",
      "enter the mode of the filer\n",
      "data to the file\n"
     ]
    }
   ],
   "source": [
    "# function to read the file\n",
    "def fileoperations(filename,mode):\n",
    "    with open(filename,mode)as f:\n",
    "        if f.mode=='r':\n",
    "            data=f.read()\n",
    "            print(data)\n",
    "        elif f.mode=='a':\n",
    "            f.write('data to the file\\n')\n",
    "            print('the data successfully writen')\n",
    "    f.close()        \n",
    "    return\n",
    "filename=input('enter the filename')\n",
    "mode=input('enter the mode of the file')\n",
    "fileoperations(filename,mode)"
   ]
  },
  {
   "cell_type": "code",
   "execution_count": 19,
   "metadata": {},
   "outputs": [
    {
     "name": "stdout",
     "output_type": "stream",
     "text": [
      "enter the filename:file2.txt\n",
      "enter the word:this\n"
     ]
    },
    {
     "data": {
      "text/plain": [
       "10"
      ]
     },
     "execution_count": 19,
     "metadata": {},
     "output_type": "execute_result"
    }
   ],
   "source": [
    "#data analysis \n",
    "#word count program\n",
    "def wordcount(filename,word):\n",
    "    with open(filename,'r')as f:\n",
    "        if f.mode=='r':\n",
    "            x=f.read()\n",
    "            li=x.split()\n",
    "    cnt=li.count(word)\n",
    "    return cnt\n",
    "filename=input('enter the filename:')\n",
    "word=input('enter the word:')\n",
    "wordcount(filename,word)"
   ]
  },
  {
   "cell_type": "code",
   "execution_count": 23,
   "metadata": {},
   "outputs": [
    {
     "name": "stdout",
     "output_type": "stream",
     "text": [
      "enter the filename:file2.txt\n"
     ]
    },
    {
     "data": {
      "text/plain": [
       "172"
      ]
     },
     "execution_count": 23,
     "metadata": {},
     "output_type": "execute_result"
    }
   ],
   "source": [
    "# character count from the give file\n",
    "def count(filename):\n",
    "    with open(filename,'r')as f:\n",
    "        if f.mode=='r':\n",
    "            x=f.read()\n",
    "            li=list(x)\n",
    "    \n",
    "    return len(li)\n",
    "filename=input('enter the filename:')\n",
    "count(filename)\n",
    "    \n",
    "        "
   ]
  },
  {
   "cell_type": "code",
   "execution_count": 24,
   "metadata": {},
   "outputs": [
    {
     "name": "stdout",
     "output_type": "stream",
     "text": [
      "['python progr', 'mming']\n"
     ]
    }
   ],
   "source": [
    "s1=\"python programming\"\n",
    "print(s1.split('a'))"
   ]
  },
  {
   "cell_type": "code",
   "execution_count": 25,
   "metadata": {},
   "outputs": [
    {
     "name": "stdout",
     "output_type": "stream",
     "text": [
      "enter the filename:file2.txt\n"
     ]
    },
    {
     "data": {
      "text/plain": [
       "13"
      ]
     },
     "execution_count": 25,
     "metadata": {},
     "output_type": "execute_result"
    }
   ],
   "source": [
    "# function to find the no of lines in the input file\n",
    "#function ---filename(file2.txt)\n",
    "#output--no of lines(12)\n",
    "def lines(filename):\n",
    "    with open(filename,'r')as f:\n",
    "        if f.mode=='r':\n",
    "            x=f.read()\n",
    "            li=x.split(\"\\n\")\n",
    "    return len(li)\n",
    "filename=input('enter the filename:')\n",
    "lines(filename)\n",
    "        "
   ]
  },
  {
   "cell_type": "code",
   "execution_count": 28,
   "metadata": {},
   "outputs": [
    {
     "name": "stdout",
     "output_type": "stream",
     "text": [
      "enter the filename:File2.txt\n"
     ]
    },
    {
     "data": {
      "text/plain": [
       "'upper case=0,lower case=114'"
      ]
     },
     "execution_count": 28,
     "metadata": {},
     "output_type": "execute_result"
    }
   ],
   "source": [
    "# function to print the upper and lower characters\n",
    "def casecount(filename):\n",
    "    cntupper=0\n",
    "    cntlower=0\n",
    "    with open(filename,'r')as f:\n",
    "        if f.mode=='r':\n",
    "            x=f.read()\n",
    "            li=list(x)\n",
    "    for i in li:\n",
    "        if i.isupper():\n",
    "            cntupper+=1\n",
    "        elif i.islower():\n",
    "            cntlower+=1\n",
    "    output='upper case={0},lower case={1}'.format(cntupper,cntlower)\n",
    "\n",
    "    return output\n",
    "filename=input('enter the filename:')\n",
    "casecount(filename)"
   ]
  },
  {
   "cell_type": "markdown",
   "metadata": {},
   "source": [
    "# math,random,os\n",
    "- os package it contains the certain methods which works with os"
   ]
  },
  {
   "cell_type": "code",
   "execution_count": 29,
   "metadata": {},
   "outputs": [
    {
     "name": "stdout",
     "output_type": "stream",
     "text": [
      " Volume in drive C has no label.\n",
      " Volume Serial Number is A2FF-1503\n",
      "\n",
      " Directory of C:\\Users\\exam\n",
      "\n",
      "11-07-2019  12:28    <DIR>          .\n",
      "11-07-2019  12:28    <DIR>          ..\n",
      "21-06-2019  14:43    <DIR>          .anaconda\n",
      "25-06-2019  15:29             1,426 .bash_history\n",
      "08-07-2019  10:23    <DIR>          .conda\n",
      "08-07-2019  09:07                43 .condarc\n",
      "29-06-2019  12:14    <DIR>          .idlerc\n",
      "11-07-2019  09:07    <DIR>          .ipynb_checkpoints\n",
      "21-06-2019  14:44    <DIR>          .ipython\n",
      "22-06-2019  12:04    <DIR>          .jupyter\n",
      "19-06-2019  14:21                44 .minttyrc\n",
      "28-03-2019  15:49    <DIR>          .oracle_jre_usage\n",
      "21-06-2019  11:56    <DIR>          Anaconda3\n",
      "27-06-2019  14:32               177 charith\n",
      "27-06-2019  14:32               160 chinmay.txt\n",
      "21-06-2019  11:58    <DIR>          chinmy\n",
      "24-11-2016  10:49    <DIR>          Contacts\n",
      "11-07-2019  10:25                16 data.txt\n",
      "11-07-2019  12:28            12,644 day 10(11-07-2019).ipynb\n",
      "29-06-2019  09:40               555 DAY 12.ipynb\n",
      "24-06-2019  15:48            11,587 day 7.ipynb\n",
      "25-06-2019  14:42             7,951 day 8.ipynb\n",
      "10-07-2019  16:46            27,842 day 9(10-07-2019)32.ipynb\n",
      "27-06-2019  15:23             7,819 day10.ipynb\n",
      "03-07-2019  09:44    <DIR>          Desktop\n",
      "03-07-2019  17:27    <DIR>          Documents\n",
      "03-07-2019  16:47    <DIR>          Downloads\n",
      "24-11-2016  10:49    <DIR>          Favorites\n",
      "11-07-2019  09:52                12 file1.txt\n",
      "11-07-2019  10:00               184 file2.txt\n",
      "11-07-2019  10:21                16 filename.txt\n",
      "24-11-2016  10:49    <DIR>          Links\n",
      "24-11-2016  10:49    <DIR>          Music\n",
      "19-06-2019  14:02    <DIR>          Pictures\n",
      "22-06-2019  13:01             9,099 puthon save.ipynb\n",
      "08-07-2019  16:59             9,311 python (06-07)32.ipynb\n",
      "22-06-2019  15:54            11,268 python day 6.ipynb\n",
      "09-07-2019  17:13            15,812 python day 8(9-07-2019) 32.ipynb\n",
      "22-06-2019  13:00             9,099 python day6.ipynb\n",
      "09-07-2019  10:44            11,739 python(8-07-2019) 32.ipynb\n",
      "24-11-2016  10:49    <DIR>          Saved Games\n",
      "24-11-2016  10:49    <DIR>          Searches\n",
      "21-06-2019  14:44                72 Untitled.ipynb\n",
      "21-06-2019  14:48               555 Untitled1.ipynb\n",
      "21-06-2019  15:12               555 Untitled2.ipynb\n",
      "21-06-2019  15:53               893 Untitled3.ipynb\n",
      "21-06-2019  16:57             7,811 Untitled4.ipynb\n",
      "22-06-2019  12:57                72 Untitled5.ipynb\n",
      "28-06-2019  12:15                72 Untitled6.ipynb\n",
      "28-06-2019  12:46                72 Untitled7.ipynb\n",
      "29-06-2019  10:07               555 Untitled8.ipynb\n",
      "29-06-2019  12:41             1,038 Untitled9.ipynb\n",
      "24-11-2016  10:49    <DIR>          Videos\n",
      "              31 File(s)        148,499 bytes\n",
      "              22 Dir(s)  69,497,810,944 bytes free\n"
     ]
    }
   ],
   "source": [
    "ls\n"
   ]
  },
  {
   "cell_type": "code",
   "execution_count": 30,
   "metadata": {},
   "outputs": [
    {
     "name": "stdout",
     "output_type": "stream",
     "text": [
      "[WinError 3] The system cannot find the path specified: 'desktop/pythonprog/git'\n",
      "C:\\Users\\exam\n"
     ]
    }
   ],
   "source": [
    "cd desktop/pythonprog/git"
   ]
  },
  {
   "cell_type": "code",
   "execution_count": 35,
   "metadata": {},
   "outputs": [
    {
     "name": "stdout",
     "output_type": "stream",
     "text": [
      " Volume in drive C has no label.\n",
      " Volume Serial Number is A2FF-1503\n",
      "\n",
      " Directory of C:\\Users\n",
      "\n",
      "24-11-2016  10:48    <DIR>          .\n",
      "24-11-2016  10:48    <DIR>          ..\n",
      "12-06-2019  12:47    <DIR>          154\n",
      "11-07-2019  12:34    <DIR>          exam\n",
      "12-04-2011  07:54    <DIR>          Public\n",
      "               0 File(s)              0 bytes\n",
      "               5 Dir(s)  69,497,499,648 bytes free\n"
     ]
    }
   ],
   "source": [
    "ls"
   ]
  },
  {
   "cell_type": "code",
   "execution_count": 36,
   "metadata": {},
   "outputs": [
    {
     "name": "stdout",
     "output_type": "stream",
     "text": [
      "C:\\\n"
     ]
    }
   ],
   "source": [
    "cd .."
   ]
  },
  {
   "cell_type": "code",
   "execution_count": 37,
   "metadata": {},
   "outputs": [
    {
     "ename": "FileNotFoundError",
     "evalue": "[WinError 3] The system cannot find the path specified: 'git/'",
     "output_type": "error",
     "traceback": [
      "\u001b[1;31m---------------------------------------------------------------------------\u001b[0m",
      "\u001b[1;31mFileNotFoundError\u001b[0m                         Traceback (most recent call last)",
      "\u001b[1;32m<ipython-input-37-b95b505eb0c3>\u001b[0m in \u001b[0;36m<module>\u001b[1;34m\u001b[0m\n\u001b[0;32m      1\u001b[0m \u001b[1;32mimport\u001b[0m \u001b[0mos\u001b[0m\u001b[1;33m\u001b[0m\u001b[1;33m\u001b[0m\u001b[0m\n\u001b[1;32m----> 2\u001b[1;33m \u001b[0mos\u001b[0m\u001b[1;33m.\u001b[0m\u001b[0mlistdir\u001b[0m\u001b[1;33m(\u001b[0m\u001b[1;34m'git/'\u001b[0m\u001b[1;33m)\u001b[0m\u001b[1;33m\u001b[0m\u001b[1;33m\u001b[0m\u001b[0m\n\u001b[0m",
      "\u001b[1;31mFileNotFoundError\u001b[0m: [WinError 3] The system cannot find the path specified: 'git/'"
     ]
    }
   ],
   "source": [
    "import os\n",
    "os.listdir('git/')"
   ]
  },
  {
   "cell_type": "code",
   "execution_count": 38,
   "metadata": {},
   "outputs": [
    {
     "ename": "FileNotFoundError",
     "evalue": "[WinError 3] The system cannot find the path specified: 'git/'",
     "output_type": "error",
     "traceback": [
      "\u001b[1;31m---------------------------------------------------------------------------\u001b[0m",
      "\u001b[1;31mFileNotFoundError\u001b[0m                         Traceback (most recent call last)",
      "\u001b[1;32m<ipython-input-38-994d4233516f>\u001b[0m in \u001b[0;36m<module>\u001b[1;34m\u001b[0m\n\u001b[1;32m----> 1\u001b[1;33m \u001b[0mli\u001b[0m\u001b[1;33m=\u001b[0m\u001b[0mos\u001b[0m\u001b[1;33m.\u001b[0m\u001b[0mlistdir\u001b[0m\u001b[1;33m(\u001b[0m\u001b[1;34m'git/'\u001b[0m\u001b[1;33m)\u001b[0m\u001b[1;33m\u001b[0m\u001b[1;33m\u001b[0m\u001b[0m\n\u001b[0m\u001b[0;32m      2\u001b[0m \u001b[1;32mfor\u001b[0m \u001b[0mi\u001b[0m \u001b[1;32min\u001b[0m \u001b[0mli\u001b[0m\u001b[1;33m:\u001b[0m\u001b[1;33m\u001b[0m\u001b[1;33m\u001b[0m\u001b[0m\n\u001b[0;32m      3\u001b[0m     \u001b[0mprint\u001b[0m\u001b[1;33m(\u001b[0m\u001b[0mi\u001b[0m\u001b[1;33m)\u001b[0m\u001b[1;33m\u001b[0m\u001b[1;33m\u001b[0m\u001b[0m\n",
      "\u001b[1;31mFileNotFoundError\u001b[0m: [WinError 3] The system cannot find the path specified: 'git/'"
     ]
    }
   ],
   "source": [
    "li=os.listdir('git/')\n",
    "for i in li:\n",
    "    print(i)"
   ]
  },
  {
   "cell_type": "markdown",
   "metadata": {},
   "source": [
    "- older versio of python -- os.listdir()\n",
    "- new version python -- os.scandir() and pathlib.path()"
   ]
  },
  {
   "cell_type": "code",
   "execution_count": 1,
   "metadata": {},
   "outputs": [],
   "source": [
    "mkdir pythonprog"
   ]
  },
  {
   "cell_type": "code",
   "execution_count": 2,
   "metadata": {},
   "outputs": [],
   "source": [
    "mkdir git"
   ]
  },
  {
   "cell_type": "code",
   "execution_count": 4,
   "metadata": {},
   "outputs": [
    {
     "data": {
      "text/plain": [
       "'C:\\\\Users\\\\exam'"
      ]
     },
     "execution_count": 4,
     "metadata": {},
     "output_type": "execute_result"
    }
   ],
   "source": [
    "pwd"
   ]
  },
  {
   "cell_type": "markdown",
   "metadata": {},
   "source": [
    "### listing subdirectories"
   ]
  },
  {
   "cell_type": "markdown",
   "metadata": {},
   "source": [
    "### creating a single directory"
   ]
  },
  {
   "cell_type": "code",
   "execution_count": 10,
   "metadata": {},
   "outputs": [
    {
     "ename": "FileExistsError",
     "evalue": "[WinError 183] Cannot create a file when that file already exists: 'singledirectory'",
     "output_type": "error",
     "traceback": [
      "\u001b[1;31m---------------------------------------------------------------------------\u001b[0m",
      "\u001b[1;31mFileExistsError\u001b[0m                           Traceback (most recent call last)",
      "\u001b[1;32m<ipython-input-10-6f718b8ca272>\u001b[0m in \u001b[0;36m<module>\u001b[1;34m\u001b[0m\n\u001b[0;32m      1\u001b[0m \u001b[1;32mimport\u001b[0m \u001b[0mos\u001b[0m\u001b[1;33m\u001b[0m\u001b[1;33m\u001b[0m\u001b[0m\n\u001b[1;32m----> 2\u001b[1;33m \u001b[0mos\u001b[0m\u001b[1;33m.\u001b[0m\u001b[0mmkdir\u001b[0m\u001b[1;33m(\u001b[0m\u001b[1;34m'singledirectory'\u001b[0m\u001b[1;33m)\u001b[0m\u001b[1;33m\u001b[0m\u001b[1;33m\u001b[0m\u001b[0m\n\u001b[0m",
      "\u001b[1;31mFileExistsError\u001b[0m: [WinError 183] Cannot create a file when that file already exists: 'singledirectory'"
     ]
    }
   ],
   "source": [
    "import os\n",
    "os.mkdir('singledirectory')"
   ]
  },
  {
   "cell_type": "code",
   "execution_count": 11,
   "metadata": {},
   "outputs": [
    {
     "ename": "AttributeError",
     "evalue": "module 'pathlib' has no attribute 'path'",
     "output_type": "error",
     "traceback": [
      "\u001b[1;31m---------------------------------------------------------------------------\u001b[0m",
      "\u001b[1;31mAttributeError\u001b[0m                            Traceback (most recent call last)",
      "\u001b[1;32m<ipython-input-11-fbccdd6486bc>\u001b[0m in \u001b[0;36m<module>\u001b[1;34m\u001b[0m\n\u001b[0;32m      1\u001b[0m \u001b[1;32mimport\u001b[0m \u001b[0mpathlib\u001b[0m\u001b[1;33m\u001b[0m\u001b[1;33m\u001b[0m\u001b[0m\n\u001b[1;32m----> 2\u001b[1;33m \u001b[0mp\u001b[0m\u001b[1;33m=\u001b[0m\u001b[0mpathlib\u001b[0m\u001b[1;33m.\u001b[0m\u001b[0mpath\u001b[0m\u001b[1;33m(\u001b[0m\u001b[1;34m'testfolder'\u001b[0m\u001b[1;33m)\u001b[0m\u001b[1;33m\u001b[0m\u001b[1;33m\u001b[0m\u001b[0m\n\u001b[0m\u001b[0;32m      3\u001b[0m \u001b[0mp\u001b[0m\u001b[1;33m.\u001b[0m\u001b[0mmkdir\u001b[0m\u001b[1;33m(\u001b[0m\u001b[1;33m)\u001b[0m\u001b[1;33m\u001b[0m\u001b[1;33m\u001b[0m\u001b[0m\n",
      "\u001b[1;31mAttributeError\u001b[0m: module 'pathlib' has no attribute 'path'"
     ]
    }
   ],
   "source": [
    "import pathlib\n",
    "p=pathlib.path('testfolder')\n",
    "p.mkdir()"
   ]
  },
  {
   "cell_type": "code",
   "execution_count": 12,
   "metadata": {},
   "outputs": [
    {
     "name": "stdout",
     "output_type": "stream",
     "text": [
      " Volume in drive C has no label.\n",
      " Volume Serial Number is A2FF-1503\n",
      "\n",
      " Directory of C:\\Users\\exam\n",
      "\n",
      "11-07-2019  14:47    <DIR>          .\n",
      "11-07-2019  14:47    <DIR>          ..\n",
      "21-06-2019  14:43    <DIR>          .anaconda\n",
      "25-06-2019  15:29             1,426 .bash_history\n",
      "08-07-2019  10:23    <DIR>          .conda\n",
      "08-07-2019  09:07                43 .condarc\n",
      "29-06-2019  12:14    <DIR>          .idlerc\n",
      "11-07-2019  09:07    <DIR>          .ipynb_checkpoints\n",
      "21-06-2019  14:44    <DIR>          .ipython\n",
      "22-06-2019  12:04    <DIR>          .jupyter\n",
      "19-06-2019  14:21                44 .minttyrc\n",
      "28-03-2019  15:49    <DIR>          .oracle_jre_usage\n",
      "21-06-2019  11:56    <DIR>          Anaconda3\n",
      "27-06-2019  14:32               177 charith\n",
      "27-06-2019  14:32               160 chinmay.txt\n",
      "21-06-2019  11:58    <DIR>          chinmy\n",
      "24-11-2016  10:49    <DIR>          Contacts\n",
      "11-07-2019  10:25                16 data.txt\n",
      "11-07-2019  14:47            23,773 day 10(11-07-2019).ipynb\n",
      "29-06-2019  09:40               555 DAY 12.ipynb\n",
      "24-06-2019  15:48            11,587 day 7.ipynb\n",
      "25-06-2019  14:42             7,951 day 8.ipynb\n",
      "10-07-2019  16:46            27,842 day 9(10-07-2019)32.ipynb\n",
      "27-06-2019  15:23             7,819 day10.ipynb\n",
      "03-07-2019  09:44    <DIR>          Desktop\n",
      "11-07-2019  13:01    <DIR>          Documents\n",
      "03-07-2019  16:47    <DIR>          Downloads\n",
      "24-11-2016  10:49    <DIR>          Favorites\n",
      "11-07-2019  09:52                12 file1.txt\n",
      "11-07-2019  10:00               184 file2.txt\n",
      "11-07-2019  10:21                16 filename.txt\n",
      "11-07-2019  14:18    <DIR>          git\n",
      "24-11-2016  10:49    <DIR>          Links\n",
      "24-11-2016  10:49    <DIR>          Music\n",
      "19-06-2019  14:02    <DIR>          Pictures\n",
      "22-06-2019  13:01             9,099 puthon save.ipynb\n",
      "08-07-2019  16:59             9,311 python (06-07)32.ipynb\n",
      "22-06-2019  15:54            11,268 python day 6.ipynb\n",
      "09-07-2019  17:13            15,812 python day 8(9-07-2019) 32.ipynb\n",
      "22-06-2019  13:00             9,099 python day6.ipynb\n",
      "09-07-2019  10:44            11,739 python(8-07-2019) 32.ipynb\n",
      "11-07-2019  14:18    <DIR>          pythonprog\n",
      "24-11-2016  10:49    <DIR>          Saved Games\n",
      "24-11-2016  10:49    <DIR>          Searches\n",
      "11-07-2019  14:46    <DIR>          singledirectory\n",
      "21-06-2019  14:44                72 Untitled.ipynb\n",
      "21-06-2019  14:48               555 Untitled1.ipynb\n",
      "21-06-2019  15:12               555 Untitled2.ipynb\n",
      "21-06-2019  15:53               893 Untitled3.ipynb\n",
      "21-06-2019  16:57             7,811 Untitled4.ipynb\n",
      "22-06-2019  12:57                72 Untitled5.ipynb\n",
      "28-06-2019  12:15                72 Untitled6.ipynb\n",
      "28-06-2019  12:46                72 Untitled7.ipynb\n",
      "29-06-2019  10:07               555 Untitled8.ipynb\n",
      "29-06-2019  12:41             1,038 Untitled9.ipynb\n",
      "24-11-2016  10:49    <DIR>          Videos\n",
      "              31 File(s)        159,628 bytes\n",
      "              25 Dir(s)  69,485,404,160 bytes free\n"
     ]
    }
   ],
   "source": [
    "ls"
   ]
  },
  {
   "cell_type": "markdown",
   "metadata": {},
   "source": [
    "### creating multiple directories"
   ]
  }
 ],
 "metadata": {
  "kernelspec": {
   "display_name": "Python 3",
   "language": "python",
   "name": "python3"
  },
  "language_info": {
   "codemirror_mode": {
    "name": "ipython",
    "version": 3
   },
   "file_extension": ".py",
   "mimetype": "text/x-python",
   "name": "python",
   "nbconvert_exporter": "python",
   "pygments_lexer": "ipython3",
   "version": "3.7.3"
  }
 },
 "nbformat": 4,
 "nbformat_minor": 2
}
